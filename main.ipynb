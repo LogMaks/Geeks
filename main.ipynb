{
 "cells": [
  {
   "cell_type": "markdown",
   "metadata": {},
   "source": [
    "*****Python for Geeks*****"
   ]
  },
  {
   "cell_type": "markdown",
   "metadata": {},
   "source": [
    "***Раздел 1***"
   ]
  },
  {
   "cell_type": "markdown",
   "metadata": {},
   "source": [
    "В рамках культуры и сообщества Python счиатается, что код должен быть максимально простым. Если задачу можно решить несколькими способами, следуетв выбрать вариант, который соответствует соглашениям и философии Python. В рамках \"Дзен Python\""
   ]
  },
  {
   "cell_type": "code",
   "execution_count": 1,
   "metadata": {},
   "outputs": [
    {
     "name": "stdout",
     "output_type": "stream",
     "text": [
      "The Zen of Python, by Tim Peters\n",
      "\n",
      "Beautiful is better than ugly.\n",
      "Explicit is better than implicit.\n",
      "Simple is better than complex.\n",
      "Complex is better than complicated.\n",
      "Flat is better than nested.\n",
      "Sparse is better than dense.\n",
      "Readability counts.\n",
      "Special cases aren't special enough to break the rules.\n",
      "Although practicality beats purity.\n",
      "Errors should never pass silently.\n",
      "Unless explicitly silenced.\n",
      "In the face of ambiguity, refuse the temptation to guess.\n",
      "There should be one-- and preferably only one --obvious way to do it.\n",
      "Although that way may not be obvious at first unless you're Dutch.\n",
      "Now is better than never.\n",
      "Although never is often better than *right* now.\n",
      "If the implementation is hard to explain, it's a bad idea.\n",
      "If the implementation is easy to explain, it may be a good idea.\n",
      "Namespaces are one honking great idea -- let's do more of those!\n"
     ]
    }
   ],
   "source": [
    "import this"
   ]
  },
  {
   "cell_type": "markdown",
   "metadata": {},
   "source": [
    "Документация - один из наиболее важных элементов в разработке. Основной способ использование docstring (обозначаются \"\"\" текст \"\"\"), при этом необходимо придерживаться следующих правил: размещать сращу после определения класса/функции, сначала лучше написать однострочное пояснение, пустые место следуте умело использовать для организации комментариев. \n",
    "\n",
    "Стили докстринг - Google, NumPy| SciPy, Epytext, Restructered"
   ]
  },
  {
   "cell_type": "code",
   "execution_count": 1,
   "metadata": {},
   "outputs": [
    {
     "name": "stdout",
     "output_type": "stream",
     "text": [
      "Chapter 2 will be ignored\n"
     ]
    }
   ],
   "source": [
    "#Иппользуем построчненый комментарий\n",
    "\"\"\"This comment \n",
    "will be ignored \n",
    "by the interpreter\"\"\"\n",
    "print(\"Chapter 2 will be ignored\")\n"
   ]
  },
  {
   "cell_type": "code",
   "execution_count": 7,
   "metadata": {},
   "outputs": [
    {
     "name": "stdout",
     "output_type": "stream",
     "text": [
      "This function does nothing, only returns the input value doubled.\n"
     ]
    }
   ],
   "source": [
    "#документация на уровне функции/класса\n",
    "def double(n):\n",
    "     \"\"\"This function does nothing, only returns the input value doubled.\"\"\"\n",
    "     return n * 2\n",
    "print(double.__doc__)\n"
   ]
  },
  {
   "cell_type": "code",
   "execution_count": 8,
   "metadata": {},
   "outputs": [
    {
     "name": "stdout",
     "output_type": "stream",
     "text": [
      "This class does nothing\n"
     ]
    }
   ],
   "source": [
    "#документация на уровне класса\n",
    "class MyClass:\n",
    "    \"\"\"This class does nothing\"\"\"\n",
    "    pass\n",
    "print(MyClass.__doc__)"
   ]
  },
  {
   "cell_type": "code",
   "execution_count": null,
   "metadata": {},
   "outputs": [],
   "source": []
  },
  {
   "cell_type": "markdown",
   "metadata": {},
   "source": [
    "***Глава 2. Использование модулей для сложных проектов** \n"
   ]
  }
 ],
 "metadata": {
  "kernelspec": {
   "display_name": "Python 3",
   "language": "python",
   "name": "python3"
  },
  "language_info": {
   "codemirror_mode": {
    "name": "ipython",
    "version": 3
   },
   "file_extension": ".py",
   "mimetype": "text/x-python",
   "name": "python",
   "nbconvert_exporter": "python",
   "pygments_lexer": "ipython3",
   "version": "3.12.3"
  }
 },
 "nbformat": 4,
 "nbformat_minor": 2
}
